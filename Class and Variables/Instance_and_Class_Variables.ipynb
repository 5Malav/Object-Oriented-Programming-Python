{
  "nbformat": 4,
  "nbformat_minor": 0,
  "metadata": {
    "colab": {
      "provenance": []
    },
    "kernelspec": {
      "name": "python3",
      "display_name": "Python 3"
    },
    "language_info": {
      "name": "python"
    }
  },
  "cells": [
    {
      "cell_type": "markdown",
      "source": [
        "# Instance Variable"
      ],
      "metadata": {
        "id": "4AbRn0lfSHdf"
      }
    },
    {
      "cell_type": "markdown",
      "source": [
        "# Each object has its own value"
      ],
      "metadata": {
        "id": "RQoA1IFjbgGV"
      }
    },
    {
      "cell_type": "code",
      "source": [
        "class Student:\n",
        "\n",
        "    def __init__(self,name,age):\n",
        "\n",
        "        self.name=name\n",
        "        self.age=age\n",
        "\n",
        "\n",
        "# create objects\n",
        "\n",
        "obj_1 = Student(\"Malav\",28)\n",
        "\n",
        "obj_2 = Student(\"Maya\",39)\n",
        "\n",
        "print(obj_1.name,obj_1.age)\n",
        "\n",
        "print(\"\\n\")\n",
        "\n",
        "print(obj_2.name,obj_2.age)\n"
      ],
      "metadata": {
        "colab": {
          "base_uri": "https://localhost:8080/"
        },
        "id": "m0Ss7y7p2kG6",
        "outputId": "16a36d50-8731-4900-b077-c886fcb32103"
      },
      "execution_count": 8,
      "outputs": [
        {
          "output_type": "stream",
          "name": "stdout",
          "text": [
            "Malav 28\n",
            "\n",
            "\n",
            "Maya 39\n"
          ]
        }
      ]
    },
    {
      "cell_type": "markdown",
      "source": [
        "# Change Instance (Object) variable for one object"
      ],
      "metadata": {
        "id": "zYA0RL6dcDUI"
      }
    },
    {
      "cell_type": "code",
      "source": [
        "class Student:\n",
        "\n",
        "    def __init__(self,name,age):\n",
        "\n",
        "        self.name=name\n",
        "        self.age=age\n",
        "\n",
        "\n",
        "# create objects\n",
        "\n",
        "obj_1 = Student(\"Malav\",28)\n",
        "\n",
        "obj_2 = Student(\"Maya\",39)\n",
        "\n",
        "print(obj_1.name,obj_1.age)\n",
        "\n",
        "print(\"\\n\")\n",
        "\n",
        "obj_1.name=\"Mrugesh\"\n",
        "obj_1.age=41\n",
        "\n",
        "print(obj_1.name,obj_1.age)\n",
        "\n",
        "print(\"\\n\")\n",
        "\n",
        "print(obj_2.name,obj_2.age)"
      ],
      "metadata": {
        "colab": {
          "base_uri": "https://localhost:8080/"
        },
        "id": "IE5Afrwo2kEb",
        "outputId": "b49f1325-58d3-4bb9-fa07-42ea79b5d3f8"
      },
      "execution_count": 9,
      "outputs": [
        {
          "output_type": "stream",
          "name": "stdout",
          "text": [
            "Malav 28\n",
            "\n",
            "\n",
            "Mrugesh 41\n",
            "\n",
            "\n",
            "Maya 39\n"
          ]
        }
      ]
    },
    {
      "cell_type": "markdown",
      "source": [
        "# Object Variable and Class Variable"
      ],
      "metadata": {
        "id": "IJ2iipEudVKS"
      }
    },
    {
      "cell_type": "code",
      "source": [
        "class Student:\n",
        "\n",
        "    school = \"SGVP School\" # Class Variable\n",
        "\n",
        "    def __init__(self,name):\n",
        "\n",
        "\n",
        "        self.name=name # Object Variable\n",
        "\n",
        "\n",
        "student_1=Student(\"Malav\")\n",
        "\n",
        "student_2=Student(\"Maya\")\n",
        "\n",
        "print(student_1.name,student_1.school)\n",
        "\n",
        "print(\"\\n\")\n",
        "\n",
        "print(student_2.name,student_2.school)\n",
        "\n",
        "# Change the class Variable both object will see change.\n",
        "\n",
        "# if we change student_1.name then only student_1 will be changed.\n",
        "\n",
        "Student.school = 'Nirma School'\n",
        "\n",
        "print(\"\\n\")\n",
        "\n",
        "print(student_1.name,student_1.school)\n",
        "\n",
        "print(\"\\n\")\n",
        "\n",
        "print(student_2.name,student_2.school)\n",
        "\n"
      ],
      "metadata": {
        "colab": {
          "base_uri": "https://localhost:8080/"
        },
        "id": "FIxas77_2kBk",
        "outputId": "c10f2ba4-f912-4cb6-83b7-a3498ea8967f"
      },
      "execution_count": 10,
      "outputs": [
        {
          "output_type": "stream",
          "name": "stdout",
          "text": [
            "Malav SGVP School\n",
            "\n",
            "\n",
            "Maya SGVP School\n",
            "\n",
            "\n",
            "Malav Nirma School\n",
            "\n",
            "\n",
            "Maya Nirma School\n"
          ]
        }
      ]
    },
    {
      "cell_type": "markdown",
      "source": [
        "# Where they are stored in a Memory ??\n",
        "\n",
        "## Object variable's are stored in object's __dict__"
      ],
      "metadata": {
        "id": "sSgwsUEge09P"
      }
    },
    {
      "cell_type": "code",
      "source": [
        "print(student_1.__dict__)"
      ],
      "metadata": {
        "colab": {
          "base_uri": "https://localhost:8080/"
        },
        "id": "aXZ8Rlwz2j--",
        "outputId": "b6a89ac8-d98d-4c3f-f45f-a0f4a523fd75"
      },
      "execution_count": 11,
      "outputs": [
        {
          "output_type": "stream",
          "name": "stdout",
          "text": [
            "{'name': 'Malav'}\n"
          ]
        }
      ]
    },
    {
      "cell_type": "markdown",
      "source": [
        "# Adding new Object variable after Object creation"
      ],
      "metadata": {
        "id": "6kbVDR6ufGG6"
      }
    },
    {
      "cell_type": "code",
      "source": [
        "student_1.age=29\n",
        "\n",
        "print(student_1.__dict__)"
      ],
      "metadata": {
        "colab": {
          "base_uri": "https://localhost:8080/"
        },
        "id": "FQZbGzU_2j8n",
        "outputId": "8759cd5f-49ba-4da4-8686-bb220ffad284"
      },
      "execution_count": 12,
      "outputs": [
        {
          "output_type": "stream",
          "name": "stdout",
          "text": [
            "{'name': 'Malav', 'age': 29}\n"
          ]
        }
      ]
    },
    {
      "cell_type": "markdown",
      "source": [
        "# Memory Address"
      ],
      "metadata": {
        "id": "lYvqQ28pm9Kr"
      }
    },
    {
      "cell_type": "code",
      "source": [
        "print(id(student_1),\"  \",id(student_2))\n",
        "\n",
        "print(\"\\n\")\n",
        "\n",
        "print(student_1.__dict__,student_2.__dict__)"
      ],
      "metadata": {
        "colab": {
          "base_uri": "https://localhost:8080/"
        },
        "id": "RKP0m-aQ2j5o",
        "outputId": "357e9ed2-2762-44f9-9ebb-d92c217c2351"
      },
      "execution_count": 13,
      "outputs": [
        {
          "output_type": "stream",
          "name": "stdout",
          "text": [
            "135621320537056    135621320534032\n",
            "\n",
            "\n",
            "{'name': 'Malav', 'age': 29} {'name': 'Maya'}\n"
          ]
        }
      ]
    },
    {
      "cell_type": "markdown",
      "source": [
        "# Class Variable\n",
        "\n",
        "## A variable whose value is shared among all objects of the class.\n",
        "\n",
        "## Unlike Instance variables which are unique to each object,\n",
        "## Class variables are shared with all objects."
      ],
      "metadata": {
        "id": "lY11s5MXSKsY"
      }
    },
    {
      "cell_type": "code",
      "source": [
        "class area_of_circle:\n",
        "\n",
        "    pi = 3.14159  # Class Variable shared by all objects\n",
        "\n",
        "    def __init__(self,radius):\n",
        "\n",
        "        self.radius=radius # Object Variable\n",
        "\n",
        "    def area(self):\n",
        "        return self.pi*(self.radius**2)\n",
        "\n",
        "# create object\n",
        "\n",
        "area_1=area_of_circle(10)\n",
        "print(\"Area 1: - \", area_1.area())\n",
        "\n",
        "print(\"\\n\")\n",
        "\n",
        "area_2=area_of_circle(5)\n",
        "print(\"Area 2: - \", area_2.area())\n",
        "\n",
        "# changing in class variable will affect all objects\n",
        "print(\"\\n\")\n",
        "\n",
        "area_of_circle.pi=3.14\n",
        "print(\"Area 1: -\",area_1.area())\n"
      ],
      "metadata": {
        "colab": {
          "base_uri": "https://localhost:8080/"
        },
        "id": "vXphfVJ92j3K",
        "outputId": "2f81298d-b456-4b5a-ae98-21b41d23a8a4"
      },
      "execution_count": 14,
      "outputs": [
        {
          "output_type": "stream",
          "name": "stdout",
          "text": [
            "Area 1: -  314.159\n",
            "\n",
            "\n",
            "Area 2: -  78.53975\n",
            "\n",
            "\n",
            "Area 1: - 314.0\n"
          ]
        }
      ]
    },
    {
      "cell_type": "code",
      "source": [
        "# Count how many objects has been created\n",
        "\n",
        "class counter:\n",
        "\n",
        "    count=0\n",
        "\n",
        "    def __init__(self):\n",
        "        counter.count+=1\n",
        "\n",
        "obj1=counter()\n",
        "obj2=counter()\n",
        "obj3=counter()\n",
        "\n",
        "print(counter.count)\n"
      ],
      "metadata": {
        "colab": {
          "base_uri": "https://localhost:8080/"
        },
        "id": "Hv2Hx0Hc2j0T",
        "outputId": "c81a37da-ad99-4973-a512-58dbbf55d230"
      },
      "execution_count": 15,
      "outputs": [
        {
          "output_type": "stream",
          "name": "stdout",
          "text": [
            "3\n"
          ]
        }
      ]
    },
    {
      "cell_type": "markdown",
      "source": [
        "# Count Number of Employees"
      ],
      "metadata": {
        "id": "H5NqYkltkAcN"
      }
    },
    {
      "cell_type": "code",
      "source": [
        "class Employee:\n",
        "\n",
        "    company = \"Techcorp\"  # Class Variable\n",
        "\n",
        "    total_employees = 0\n",
        "\n",
        "    def __init__(self,name):\n",
        "\n",
        "        self.name = name\n",
        "\n",
        "        Employee.total_employees +=1\n",
        "\n",
        "# Create Objects\n",
        "\n",
        "emp1 = Employee(\"Mrugesh\")\n",
        "\n",
        "emp2 = Employee(\"Malav\")\n",
        "\n",
        "emp3 = Employee(\"Maya\")\n",
        "\n",
        "# Print object variables\n",
        "\n",
        "print(emp1.name,\" \",emp1.company)\n",
        "\n",
        "print(\"\\n\")\n",
        "\n",
        "print(emp2.name,\" \",emp2.company)\n",
        "\n",
        "print(\"\\n\")\n",
        "\n",
        "print(emp3.name,\" \",emp3.company)\n",
        "\n",
        "print(\"\\n\")\n",
        "\n",
        "print(\"Total No. of Employees :-\",Employee.total_employees)\n",
        "\n",
        "\n",
        "\n"
      ],
      "metadata": {
        "colab": {
          "base_uri": "https://localhost:8080/"
        },
        "id": "OvhPGZPw2jxs",
        "outputId": "597b0dca-8efe-4750-8d56-26dfbf7af21f"
      },
      "execution_count": 17,
      "outputs": [
        {
          "output_type": "stream",
          "name": "stdout",
          "text": [
            "Mrugesh   Techcorp\n",
            "\n",
            "\n",
            "Malav   Techcorp\n",
            "\n",
            "\n",
            "Maya   Techcorp\n",
            "\n",
            "\n",
            "Total No. of Employees :- 3\n"
          ]
        }
      ]
    },
    {
      "cell_type": "markdown",
      "source": [
        "# Discount Price"
      ],
      "metadata": {
        "id": "SmcUBZlg8Dlm"
      }
    },
    {
      "cell_type": "code",
      "source": [
        "class Product:\n",
        "\n",
        "    discount = 0.10 # Class variable\n",
        "\n",
        "    def __init__(self,name,price):\n",
        "\n",
        "        self.name = name\n",
        "        self.price = price # object variables\n",
        "\n",
        "    def final_price(self):\n",
        "        return self.price*(1-Product.discount)\n",
        "\n",
        "prod1 = Product(\"Laptop\",75000)\n",
        "\n",
        "prod2 = Product(\"Phone\",45000)\n",
        "\n",
        "print(\"Final Price of Laptop :- \",prod1.final_price())\n",
        "\n",
        "print(\"\\n\")\n",
        "\n",
        "print(\"Final Price of Phone :- \",prod2.final_price())\n",
        "\n",
        "\n"
      ],
      "metadata": {
        "colab": {
          "base_uri": "https://localhost:8080/"
        },
        "id": "3fGWhX-m2jvF",
        "outputId": "f42fa743-9a2b-4a1a-b203-b522bbf5e86c"
      },
      "execution_count": 18,
      "outputs": [
        {
          "output_type": "stream",
          "name": "stdout",
          "text": [
            "Final Price of Laptop :-  67500.0\n",
            "\n",
            "\n",
            "Final Price of Phone :-  40500.0\n"
          ]
        }
      ]
    }
  ]
}