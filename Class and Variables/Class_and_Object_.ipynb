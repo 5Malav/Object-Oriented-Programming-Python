{
  "nbformat": 4,
  "nbformat_minor": 0,
  "metadata": {
    "colab": {
      "provenance": []
    },
    "kernelspec": {
      "name": "python3",
      "display_name": "Python 3"
    },
    "language_info": {
      "name": "python"
    }
  },
  "cells": [
    {
      "cell_type": "markdown",
      "source": [
        "# __init__ and self"
      ],
      "metadata": {
        "id": "pKGXxysoRTSK"
      }
    },
    {
      "cell_type": "code",
      "source": [
        "class Student:\n",
        "\n",
        "    def __init__(self,name,roll_number):\n",
        "\n",
        "        print(f\"Inside __init__ : self={self}\")\n",
        "        self.name=name\n",
        "        self.roll_number=roll_number\n",
        "\n",
        "stud = Student(\"Malav Joshi\",509)\n",
        "\n",
        "print(\"\\n\")\n",
        "\n",
        "print(f\"Outside : stud={stud}\")"
      ],
      "metadata": {
        "colab": {
          "base_uri": "https://localhost:8080/"
        },
        "id": "9PJxFoljRXE3",
        "outputId": "a78c99b1-bb0c-4b7e-c7c9-add10e815620"
      },
      "execution_count": 2,
      "outputs": [
        {
          "output_type": "stream",
          "name": "stdout",
          "text": [
            "Inside __init__ : self=<__main__.Student object at 0x7a512a8034a0>\n",
            "\n",
            "\n",
            "Outside : stud=<__main__.Student object at 0x7a512a8034a0>\n"
          ]
        }
      ]
    },
    {
      "cell_type": "markdown",
      "source": [
        "# 1.) Student Class"
      ],
      "metadata": {
        "id": "J4rv00K170cr"
      }
    },
    {
      "cell_type": "code",
      "source": [
        "class Student:\n",
        "\n",
        "    def __init__(self,name,roll_number):\n",
        "\n",
        "        self.name=name\n",
        "        self.roll_number=roll_number\n",
        "\n",
        "    def record(self):\n",
        "        print(f\" Name: {self.name} Roll Number: {self.roll_number}\")\n",
        "\n",
        "stud_1=Student(\"Maya\",501)\n",
        "\n",
        "print(stud_1.record()) # use method to print record\n",
        "\n",
        "print(stud_1.name) # object variable name\n",
        "\n",
        "print(stud_1.roll_number) # object variable roll_number\n"
      ],
      "metadata": {
        "colab": {
          "base_uri": "https://localhost:8080/"
        },
        "id": "rrjNs7N870Sa",
        "outputId": "2e8305c5-3acb-48b8-de30-c22b29738303"
      },
      "execution_count": 3,
      "outputs": [
        {
          "output_type": "stream",
          "name": "stdout",
          "text": [
            " Name: Maya Roll Number: 501\n",
            "None\n",
            "Maya\n",
            "501\n"
          ]
        }
      ]
    },
    {
      "cell_type": "markdown",
      "source": [
        "# 2.) Animal Class"
      ],
      "metadata": {
        "id": "ow9g5FrcaQH7"
      }
    },
    {
      "cell_type": "code",
      "source": [
        "class Animal:\n",
        "\n",
        "    def __init__(self,name,species):\n",
        "\n",
        "        self.name=name\n",
        "        self.species=species\n",
        "\n",
        "    def animal_sound(self,sound):\n",
        "        return f\"{self.name}  says {sound}\"\n",
        "\n",
        "# object\n",
        "\n",
        "animal_1 = Animal(\"Maya\",\"Dog\")\n",
        "\n",
        "animal_2 = Animal(\"Mina\",\"Cat\")\n",
        "\n",
        "print(\"Object animal_1 variable :- \" ,animal_1.name)\n",
        "\n",
        "# call method of Animal Class\n",
        "\n",
        "print(animal_1.animal_sound(\"woof !\"))\n",
        "\n",
        "print(animal_2.animal_sound(\"meowww !\"))\n",
        "\n"
      ],
      "metadata": {
        "colab": {
          "base_uri": "https://localhost:8080/"
        },
        "id": "342Vq9V-70Pz",
        "outputId": "7581b8a4-128f-42d0-88df-3868f3a97163"
      },
      "execution_count": 4,
      "outputs": [
        {
          "output_type": "stream",
          "name": "stdout",
          "text": [
            "Object animal_1 variable :-  Maya\n",
            "Maya  says woof !\n",
            "Mina  says meowww !\n"
          ]
        }
      ]
    },
    {
      "cell_type": "markdown",
      "source": [
        "# 3.) Employee Class"
      ],
      "metadata": {
        "id": "0Lzp12HYeqeB"
      }
    },
    {
      "cell_type": "code",
      "source": [
        "class Employee:\n",
        "\n",
        "    # initialize object variables\n",
        "\n",
        "    def __init__(self,name,salary):\n",
        "\n",
        "        self.name=name\n",
        "        self.salary=salary\n",
        "\n",
        "    def show_details(self):\n",
        "\n",
        "        return f\" Emplyee Name: {self.name} , Salary: {self.salary}\"\n",
        "\n",
        "# create object\n",
        "\n",
        "emp_1=Employee(\"Mrugesh\",50000)\n",
        "\n",
        "emp_2=Employee(\"Gopi\",50000)\n",
        "\n",
        "print(emp_1.name) # object variable\n",
        "\n",
        "print(\"\\n\")\n",
        "\n",
        "print(emp_1.show_details())\n",
        "\n",
        "print(\"\\n\")\n",
        "\n",
        "print(emp_2.show_details())\n",
        "\n"
      ],
      "metadata": {
        "colab": {
          "base_uri": "https://localhost:8080/"
        },
        "id": "aa0aDXr270NM",
        "outputId": "49008ec7-f459-4cfe-ad05-1d12e79c1d74"
      },
      "execution_count": 5,
      "outputs": [
        {
          "output_type": "stream",
          "name": "stdout",
          "text": [
            "Mrugesh\n",
            "\n",
            "\n",
            " Emplyee Name: Mrugesh , Salary: 50000\n",
            "\n",
            "\n",
            " Emplyee Name: Gopi , Salary: 50000\n"
          ]
        }
      ]
    },
    {
      "cell_type": "markdown",
      "source": [
        "# 4.) Book in a Library"
      ],
      "metadata": {
        "id": "LfMPI_ykrKsV"
      }
    },
    {
      "cell_type": "code",
      "source": [
        "class Book:\n",
        "\n",
        "    def __init__(self,title,author,price):\n",
        "\n",
        "        self.title=title\n",
        "        self.author=author\n",
        "        self.price=price\n",
        "\n",
        "    def display(self):\n",
        "\n",
        "        return f\"{self.title} by {self.author} , Price: {self.price}\"\n",
        "\n",
        "book_1= Book(\"Machine Learning\",\"John Doe\",500)\n",
        "\n",
        "book_2 = Book(\"Python Basics\",\"Jane Smith\",450)\n",
        "\n",
        "print(book_1.display())\n",
        "\n",
        "print(\"\\n\")\n",
        "\n",
        "print(book_2.display())\n",
        "\n",
        "\n"
      ],
      "metadata": {
        "colab": {
          "base_uri": "https://localhost:8080/"
        },
        "id": "3psw0Mep70Kl",
        "outputId": "75d89cd1-bf88-4857-ad09-ab72ddba5ff3"
      },
      "execution_count": 6,
      "outputs": [
        {
          "output_type": "stream",
          "name": "stdout",
          "text": [
            "Machine Learning by John Doe , Price: 500\n",
            "\n",
            "\n",
            "Python Basics by Jane Smith , Price: 450\n"
          ]
        }
      ]
    },
    {
      "cell_type": "markdown",
      "source": [
        "# 5.) Bank Account System\n"
      ],
      "metadata": {
        "id": "TLbleTK904Ji"
      }
    },
    {
      "cell_type": "code",
      "source": [
        "class BankAccount:\n",
        "\n",
        "    def __init__(self,account_holder,balance=0):\n",
        "\n",
        "        self.account_holder=account_holder\n",
        "        self.balance=balance\n",
        "\n",
        "    def deposit(self,amount):\n",
        "\n",
        "        self.balance = self.balance + amount\n",
        "        total = self.balance + amount\n",
        "        return f\"Current Balance : {self.balance} , Deposited : {amount}. Total Balance : {total}\"\n",
        "\n",
        "    def withdraw(self,amount):\n",
        "\n",
        "        if amount<=self.balance:\n",
        "            self.balance=self.balance-amount\n",
        "            return f\"Withdraw amount : {amount}. Account Holder : {self.account_holder}'s  Total balance : {self.balance}\"\n",
        "        else:\n",
        "            return \"Insufficient Balance.\"\n",
        "\n",
        "account_1 = BankAccount(\"malav\",10000)\n",
        "\n",
        "print(account_1.deposit(5000))\n",
        "\n",
        "print(\"\\n\")\n",
        "\n",
        "print(account_1.withdraw(8000))\n",
        "\n"
      ],
      "metadata": {
        "colab": {
          "base_uri": "https://localhost:8080/"
        },
        "id": "IJGDz0eM70H_",
        "outputId": "7e2aa991-af9a-4fb9-f360-a8b7a0d60f31"
      },
      "execution_count": 7,
      "outputs": [
        {
          "output_type": "stream",
          "name": "stdout",
          "text": [
            "Current Balance : 15000 , Deposited : 5000. Total Balance : 20000\n",
            "\n",
            "\n",
            "Withdraw amount : 8000. Account Holder : malav's  Total balance : 7000\n"
          ]
        }
      ]
    },
    {
      "cell_type": "markdown",
      "source": [
        "# 6.) E - Commerce Product"
      ],
      "metadata": {
        "id": "IFUhGzRY_T_5"
      }
    },
    {
      "cell_type": "code",
      "source": [
        "class Product:\n",
        "\n",
        "    def __init__(self,name,price,stock):\n",
        "\n",
        "        self.name=name\n",
        "        self.price=price\n",
        "        self.stock=stock\n",
        "\n",
        "    def buy(self,Quantity):\n",
        "\n",
        "        if Quantity <= self.stock:\n",
        "\n",
        "            print(f\"Total Stock : {self.stock}\")\n",
        "\n",
        "            self.stock=self.stock-Quantity\n",
        "\n",
        "            print(f\"Ordered Quantity : {Quantity}. Total Stock left: {self.stock}\")\n",
        "        else:\n",
        "            return \"Not enough Stock.\"\n",
        "\n",
        "prod_1=Product(\"Laptop\",45000,5)\n",
        "\n",
        "prod_1.buy(4)\n",
        "\n",
        "\n"
      ],
      "metadata": {
        "colab": {
          "base_uri": "https://localhost:8080/"
        },
        "id": "39NM4kf670FY",
        "outputId": "ab4dfa06-a026-4f61-e2dd-0db3bbfc4f3f"
      },
      "execution_count": 8,
      "outputs": [
        {
          "output_type": "stream",
          "name": "stdout",
          "text": [
            "Total Stock : 5\n",
            "Ordered Quantity : 4. Total Stock left: 1\n"
          ]
        }
      ]
    },
    {
      "cell_type": "markdown",
      "source": [
        "# 7.) Hospital Management System\n",
        "\n",
        "## Create Doctor and Patient class"
      ],
      "metadata": {
        "id": "HH3DkcrJMjYO"
      }
    },
    {
      "cell_type": "code",
      "source": [
        "class doctor:\n",
        "\n",
        "    def __init__(self,name,specialization):\n",
        "\n",
        "        self.name=name\n",
        "        self.specialization=specialization\n",
        "\n",
        "    def doctor_info(self):\n",
        "\n",
        "        return f\" Dr. {self.name} - {self.specialization}\"\n",
        "\n",
        "class patient:\n",
        "\n",
        "    def __init__(self,name,disease):\n",
        "\n",
        "        self.name=name\n",
        "        self.disease=disease\n",
        "\n",
        "    def patient_info(self,doctor_name):\n",
        "\n",
        "        return f\"Patient Name :- {self.name} is assigned to Dr. {doctor_name.name} - {doctor_name.specialization}\"\n",
        "\n",
        "doc1=doctor(\"Malav Joshi\",\"Cardiologist\")\n",
        "print(doc1.doctor_info())\n",
        "\n",
        "print(\"\\n\")\n",
        "\n",
        "\n",
        "p1= patient(\"Minaxi Joshi\",\"Heart Disease\")\n",
        "\n",
        "print(p1.patient_info(doc1))\n"
      ],
      "metadata": {
        "colab": {
          "base_uri": "https://localhost:8080/"
        },
        "id": "nGwNBKZB70Co",
        "outputId": "f6a7772f-9ff9-43e5-9df3-37c6c5231627"
      },
      "execution_count": 9,
      "outputs": [
        {
          "output_type": "stream",
          "name": "stdout",
          "text": [
            " Dr. Malav Joshi - Cardiologist\n",
            "\n",
            "\n",
            "Patient Name :- Minaxi Joshi is assigned to Dr. Malav Joshi - Cardiologist\n"
          ]
        }
      ]
    },
    {
      "cell_type": "markdown",
      "source": [
        "# 8.) Library Management System\n",
        "\n",
        "## Create Book and Member classes"
      ],
      "metadata": {
        "id": "ktEQnQyb8VAb"
      }
    },
    {
      "cell_type": "code",
      "source": [
        "class Book:\n",
        "\n",
        "    def __init__(self,title,author):\n",
        "\n",
        "        self.title=title\n",
        "        self.author=author\n",
        "        self.is_available=True\n",
        "\n",
        "    def borrow(self):\n",
        "        if not self.is_available:\n",
        "            return f\"{self.title} by {self.author} is not available\"\n",
        "        else:\n",
        "            return f\"{self.title} by {self.author} is available\"\n",
        "\n",
        "    def book_return(self):\n",
        "        self.is_available=True\n",
        "        return f\"{self.title} by {self.author} has been returned\"\n",
        "\n",
        "\n",
        "class Member:\n",
        "\n",
        "    def __init__(self,name):\n",
        "        self.name=name\n",
        "\n",
        "    def borrow_book(self,book):\n",
        "        if book.is_available:\n",
        "            book.is_available=False\n",
        "            return f\"{self.name} has borrowed {book.title} by {book.author}\"\n",
        "        else:\n",
        "            return f\"{self.name} cannot borrow {book.title} by {book.author} because it is not available\"\n",
        "\n",
        "\n",
        "    def return_book(self,book):\n",
        "        if not book.is_available:\n",
        "            book.is_available=True\n",
        "            return f\"{self.name} has returned {book.title} by {book.author}\"\n",
        "        else:\n",
        "            return f\"{self.name} cannot return {book.title} by {book.author} because it is already available\"\n",
        "\n",
        "\n",
        "# create object\n",
        "\n",
        "b1 = Book(\"Python Programming\",\"John Smith\")\n",
        "m1 = Member(\"Malav Joshi\")\n",
        "\n",
        "\n",
        "print(b1.borrow()) # Python Programming by John Smith is available\n",
        "\n",
        "print(\"\\n\")\n",
        "\n",
        "# borrow book\n",
        "print(m1.borrow_book(b1)) # Malav Joshi has borrowed Python Programming by John Smith\n",
        "\n",
        "\n",
        "print(\"\\n\")\n",
        "\n",
        "print(b1.borrow()) # Python Programming by John Smith is not available\n",
        "\n",
        "\n",
        "m2 = Member(\"Mrugesh Joshi\")\n",
        "\n",
        "print(\"\\n\")\n",
        "\n",
        "\n",
        "print(m2.borrow_book(b1))\n",
        "# Mrugesh Joshi cannot borrow Python Programming by John Smith because it is not available\n",
        "\n",
        "\n",
        "print(\"\\n\")\n",
        "\n",
        "# return book\n",
        "print(m1.return_book(b1)) # Malav Joshi has returned Python Programming by John Smith\n",
        "\n",
        "\n",
        "print(\"\\n\")\n",
        "\n",
        "print(b1.book_return()) # Python Programming by John Smith has been returned\n",
        "\n",
        "\n",
        "print(\"\\n\")\n",
        "\n",
        "print(b1.borrow()) # Python Programming by John Smith is available\n",
        "\n",
        "\n",
        "print(\"\\n\")\n",
        "\n",
        "print(m2.return_book(b1))\n",
        "# Mrugesh Joshi cannot return Python Programming by John Smith because it is already available\n",
        "\n",
        "\n"
      ],
      "metadata": {
        "colab": {
          "base_uri": "https://localhost:8080/"
        },
        "id": "JmXnB9hR7z9U",
        "outputId": "36804b94-86f8-4fc4-b150-64cfee10dffe"
      },
      "execution_count": 28,
      "outputs": [
        {
          "output_type": "stream",
          "name": "stdout",
          "text": [
            "Python Programming by John Smith is available\n",
            "\n",
            "\n",
            "Malav Joshi has borrowed Python Programming by John Smith\n",
            "\n",
            "\n",
            "Python Programming by John Smith is not available\n",
            "\n",
            "\n",
            "Mrugesh Joshi cannot borrow Python Programming by John Smith because it is not available\n",
            "\n",
            "\n",
            "Malav Joshi has returned Python Programming by John Smith\n",
            "\n",
            "\n",
            "Python Programming by John Smith has been returned\n",
            "\n",
            "\n",
            "Python Programming by John Smith is available\n",
            "\n",
            "\n",
            "Mrugesh Joshi cannot return Python Programming by John Smith because it is already available\n"
          ]
        }
      ]
    }
  ]
}