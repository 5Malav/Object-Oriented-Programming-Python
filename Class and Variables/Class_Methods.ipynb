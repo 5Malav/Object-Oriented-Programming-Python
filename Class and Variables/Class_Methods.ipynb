{
  "nbformat": 4,
  "nbformat_minor": 0,
  "metadata": {
    "colab": {
      "provenance": []
    },
    "kernelspec": {
      "name": "python3",
      "display_name": "Python 3"
    },
    "language_info": {
      "name": "python"
    }
  },
  "cells": [
    {
      "cell_type": "markdown",
      "source": [
        "# Instance Method\n",
        "\n",
        "## Operates on instance attributes. (Specific to each object)"
      ],
      "metadata": {
        "id": "6aYY1w-SOyx-"
      }
    },
    {
      "cell_type": "code",
      "execution_count": 36,
      "metadata": {
        "colab": {
          "base_uri": "https://localhost:8080/",
          "height": 35
        },
        "id": "NdRjHAsI9dfj",
        "outputId": "ce05a757-72ac-40d7-d284-7a966432e6f9"
      },
      "outputs": [
        {
          "output_type": "execute_result",
          "data": {
            "text/plain": [
              "'Name :- Maya , Marks :- 19'"
            ],
            "application/vnd.google.colaboratory.intrinsic+json": {
              "type": "string"
            }
          },
          "metadata": {},
          "execution_count": 36
        }
      ],
      "source": [
        "class experience:\n",
        "\n",
        "    def __init__(self,name,years_of_experience):\n",
        "\n",
        "        self.name = name\n",
        "        self.years_of_experience= years_of_experience\n",
        "\n",
        "    def display_information(self):\n",
        "\n",
        "        return f\"Name :- {self.name} , Marks :- {self.years_of_experience}\"\n",
        "\n",
        "emp1= experience(\"Maya\",19)\n",
        "\n",
        "\n",
        "emp1.display_information()"
      ]
    },
    {
      "cell_type": "markdown",
      "source": [
        "# Class Method\n",
        "\n",
        "## Operates on class variables not on individual object."
      ],
      "metadata": {
        "id": "EE-dCPrhPhDT"
      }
    },
    {
      "cell_type": "code",
      "source": [
        "class company:\n",
        "\n",
        "    company_name=\"Maya Traders\"\n",
        "\n",
        "    @classmethod\n",
        "    def change_company_name(cls,new_name):\n",
        "        company.company_name=new_name\n",
        "\n",
        "print(company.company_name)\n",
        "\n",
        "print(\"\\n\")\n",
        "\n",
        "company_name=company.change_company_name(\"Mrugesh Corporation\")\n",
        "print(company.company_name)\n"
      ],
      "metadata": {
        "colab": {
          "base_uri": "https://localhost:8080/"
        },
        "id": "phYeeUjY9d2s",
        "outputId": "a06cadc3-a8e5-4da7-9f0e-368b262a4cdf"
      },
      "execution_count": 37,
      "outputs": [
        {
          "output_type": "stream",
          "name": "stdout",
          "text": [
            "Maya Traders\n",
            "\n",
            "\n",
            "Mrugesh Corporation\n"
          ]
        }
      ]
    },
    {
      "cell_type": "markdown",
      "source": [
        "# Static Method\n",
        "\n",
        "## Independent of class and instance method.\n",
        "\n",
        "## Can be used like a normal function but can be used inside class for\n",
        "## logical grouping."
      ],
      "metadata": {
        "id": "efA0k5MHVC8Y"
      }
    },
    {
      "cell_type": "code",
      "source": [
        "class addition:\n",
        "\n",
        "    @staticmethod\n",
        "    def add(a,b):\n",
        "        return a + b\n",
        "\n",
        "addition.add(5,3)"
      ],
      "metadata": {
        "colab": {
          "base_uri": "https://localhost:8080/"
        },
        "id": "DACTrV9o9d5i",
        "outputId": "16bb2324-049d-4a90-9ab9-d29347f6464f"
      },
      "execution_count": 38,
      "outputs": [
        {
          "output_type": "execute_result",
          "data": {
            "text/plain": [
              "8"
            ]
          },
          "metadata": {},
          "execution_count": 38
        }
      ]
    },
    {
      "cell_type": "markdown",
      "source": [
        "# Bank Account (Instance Based Method)"
      ],
      "metadata": {
        "id": "gtbKe8L0m7ov"
      }
    },
    {
      "cell_type": "code",
      "source": [
        "class BankAccount:\n",
        "\n",
        "    def __init__(self,name,balance):\n",
        "\n",
        "        self.name=name\n",
        "        self.balance=balance\n",
        "\n",
        "    # Instance Method\n",
        "\n",
        "    def deposit(self,amount):\n",
        "\n",
        "        self.balance+=amount\n",
        "\n",
        "        return f\" Deposited : {amount} , Total Balance : {self.balance}\"\n",
        "\n",
        "account_1 = BankAccount(\"Malav\",5000)\n",
        "\n",
        "print(\"Current Balance : \",account_1.balance)\n",
        "\n",
        "print(\"\\n\")\n",
        "\n",
        "account_1.deposit(6000)\n",
        "\n",
        "print(\"Balance after Deposit :\" ,account_1.balance)\n",
        "\n"
      ],
      "metadata": {
        "colab": {
          "base_uri": "https://localhost:8080/"
        },
        "id": "GUESUYpO9d8J",
        "outputId": "53a65a0a-690b-413f-db48-dda56a26eb6f"
      },
      "execution_count": 39,
      "outputs": [
        {
          "output_type": "stream",
          "name": "stdout",
          "text": [
            "Current Balance :  5000\n",
            "\n",
            "\n",
            "Balance after Deposit : 11000\n"
          ]
        }
      ]
    },
    {
      "cell_type": "markdown",
      "source": [
        "# Bank System\n",
        "\n",
        "## Instance Method :- deposit() & withdraw()\n",
        "## -> These methods work on a specific account.\n",
        "\n",
        "## Class Method :- set_interest_rate()\n",
        "## -> It will impact class level settings.\n",
        "## Meaning it will affect all accounts.\n",
        "\n",
        "## Static Method :- To validate account number\n",
        "## -> Because it is to check whether account number\n",
        "## is valid or not. It does not need any object or class\n",
        "## to perform this method."
      ],
      "metadata": {
        "id": "yknoXfr3ogAr"
      }
    },
    {
      "cell_type": "code",
      "source": [
        "class BankAccount:\n",
        "\n",
        "    interest_rate = 4.5 # Class Variable\n",
        "\n",
        "    def __init__(self,name,account_number,balance=0):\n",
        "\n",
        "        # Intance (Object) Variables\n",
        "\n",
        "        self.name=name\n",
        "        self.account_number=account_number\n",
        "        self.balance=balance\n",
        "\n",
        "    # Intance Method\n",
        "    def deposit(self,amount):\n",
        "\n",
        "        self.balance+=amount\n",
        "        print(f\"{self.name} deposited {amount}. New Balance :- {self.balance}\")\n",
        "\n",
        "    # Another Instance Method\n",
        "    def withdraw(self,amount):\n",
        "\n",
        "        if amount<=self.balance:\n",
        "            self.balance-=amount\n",
        "            print(f\"{self.name} withdrew {amount}. New Balance :- {self.balance}\")\n",
        "        else:\n",
        "            print(\"Insufficient Balance.\")\n",
        "\n",
        "    # Class method to change Interest rate\n",
        "    @classmethod\n",
        "    def set_interest_rate(cls,rate):\n",
        "        cls.interest_rate=rate\n",
        "        return f\"Interest rate updated to {cls.interest_rate}% for all accounts\"\n",
        "\n",
        "    # Static method to check whether account_number is valid or not\n",
        "    @staticmethod\n",
        "    def valid_account_number(acc_number):\n",
        "        return len(str(acc_number))==10 and str(acc_number).isdigit()\n"
      ],
      "metadata": {
        "id": "oMYYinhe9d-m"
      },
      "execution_count": 40,
      "outputs": []
    },
    {
      "cell_type": "code",
      "source": [
        "# Testing the BankAccount class\n",
        "\n",
        "# test static method\n",
        "\n",
        "print(\"Valid Account Number ? \",BankAccount.valid_account_number(\"1234567890\"))\n",
        "print(\"\\n\")\n",
        "\n",
        "# Create Accounts\n",
        "cust_1 = BankAccount(\"Malav\",1234567890,55000)\n",
        "\n",
        "cust_2 = BankAccount(\"Maya\",9876543210,35000)\n",
        "\n",
        "# test deposit(instance) method\n",
        "\n",
        "cust_1.deposit(10500)\n",
        "print(\"\\n\")\n",
        "cust_2.deposit(13000)\n",
        "print(\"\\n\")\n",
        "\n",
        "# test withdraw(instance) method\n",
        "\n",
        "cust_1.withdraw(13000)\n",
        "print(\"\\n\")\n",
        "cust_2.withdraw(13000)\n",
        "print(\"\\n\")\n",
        "\n",
        "BankAccount.set_interest_rate(5)\n",
        "\n"
      ],
      "metadata": {
        "colab": {
          "base_uri": "https://localhost:8080/",
          "height": 303
        },
        "id": "eWtykDTy9eBF",
        "outputId": "49f83523-f999-4ed4-de99-de87211599e4"
      },
      "execution_count": 41,
      "outputs": [
        {
          "output_type": "stream",
          "name": "stdout",
          "text": [
            "Valid Account Number ?  True\n",
            "\n",
            "\n",
            "Malav deposited 10500. New Balance :- 65500\n",
            "\n",
            "\n",
            "Maya deposited 13000. New Balance :- 48000\n",
            "\n",
            "\n",
            "Malav withdrew 13000. New Balance :- 52500\n",
            "\n",
            "\n",
            "Maya withdrew 13000. New Balance :- 35000\n",
            "\n",
            "\n"
          ]
        },
        {
          "output_type": "execute_result",
          "data": {
            "text/plain": [
              "'Interest rate updated to 5% for all accounts'"
            ],
            "application/vnd.google.colaboratory.intrinsic+json": {
              "type": "string"
            }
          },
          "metadata": {},
          "execution_count": 41
        }
      ]
    }
  ]
}